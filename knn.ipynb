{

 "cells": [
  {
   "cell_type": "markdown",
   "metadata": {
    "colab_type": "text",
    "id": "QcJK3kXl--c3"
   },
   "source": [
    "# Assignment 1-1: K-Nearest Neighbors (k-NN)"
   ]
  },
  {
   "cell_type": "markdown",
   "metadata": {
    "colab_type": "text",
    "id": "Qc83ETI1a3o9"
   },
   "source": [
    "In this notebook you will implement a K-Nearest Neighbors classifier on the [CIFAR-10 dataset](https://www.cs.toronto.edu/~kriz/cifar.html).\n",
    "\n",
    "Recall that the K-Nearest Neighbor classifier does the following:\n",
    "- During training, the classifier simply memorizes the training data\n",
    "- During testing, test images are compared to each training image; the predicted label is the majority vote among the K nearest training examples.\n",
    "\n",
    "After implementing the K-Nearest Neighbor classifier, you will use *cross-validation* to find the best value of K.\n",
    "\n",
    "The goals of this exercise are to go through a simple example of the data-driven image classification pipeline, and also to practice writing efficient, vectorized code in [PyTorch](https://pytorch.org/)."
   ]
  },
  {
   "cell_type": "markdown",
   "metadata": {
    "colab_type": "text",
    "id": "GSd6jQb4epkC"
   },
   "source": [
    "## Downloading the CIFAR-10 dataset "
   ]
  },
  {
   "cell_type": "code",


   "execution_count": 1,

   "execution_count": 2,


    "import download\n",
    "from sklearn.preprocessing import StandardScaler\n",
    "from sklearn.neighbors import KNeighborsClassifier\n",
    "from sklearn.metrics import classification_report, confusion_matrix"

   ]
  },
  {
   "cell_type": "code",


   "execution_count": 2,

   "metadata": {
    "colab": {
     "base_uri": "https://localhost:8080/",
     "height": 119
    },
    "colab_type": "code",
    "id": "y2JiLb-R9bFb",
    "outputId": "b3ac93f5-5e8d-4152-aa04-28a482a4dcc4"
   },
   "outputs": [
    {
     "name": "stdout",
     "output_type": "stream",

     ]
    }
   ],
   "source": [
    "url = \"https://www.cs.toronto.edu/~kriz/cifar-10-python.tar.gz\"\n",
    "download_dir = \"./data\"\n",
    "download.maybe_download_and_extract(url,download_dir)"
   ]
  },
  {
   "cell_type": "markdown",
   "metadata": {},
   "source": [
    "## Loading raw files and reading them as training and testing datasets"
   ]
  },
  {
   "cell_type": "code",
   "execution_count": 4,
   "metadata": {},
   "outputs": [
    {
     "name": "stdout",
     "output_type": "stream",
     "text": [
      "Training data shape:  (50000, 32, 32, 3)\n",
      "Training labels shape:  (50000,)\n",
      "Test data shape:  (10000, 32, 32, 3)\n",
      "Test labels shape:  (10000,)\n"
     ]
    }
   ],
   "source": [
    "cifar10_dir = './data/cifar-10-batches-py'\n",
    "X_train, y_train, X_test, y_test = data_utils.load_CIFAR10(cifar10_dir)\n",
    "\n",
    "# Checking the size of the training and testing data\n",
    "print('Training data shape: ', X_train.shape)\n",
    "print('Training labels shape: ', y_train.shape)\n",
    "print('Test data shape: ', X_test.shape)\n",
    "print('Test labels shape: ', y_test.shape)"
   ]
  },
  {
   "cell_type": "markdown",
   "metadata": {
    "colab_type": "text",
    "id": "AKKdLGIIffYx"
   },
   "source": [
    "## Visualizing dataset samples\n",
    "To give you a sense of the nature of the images in CIFAR-10, this cell visualizes some random examples from the training set."
   ]
  },
  {
   "cell_type": "code",
   "execution_count": 5,
   "metadata": {
    "colab": {
     "base_uri": "https://localhost:8080/",
     "height": 483
    },
    "colab_type": "code",
    "id": "UMNVrzrd-d_y",
    "outputId": "1bd00712-3a50-4e4d-fb39-a9353c25c56e"
   },
   "outputs": [
    {
     "data": {

      "text/plain": [
       "<Figure size 640x480 with 70 Axes>"
      ]
     },
     "metadata": {},
     "output_type": "display_data"
    }
   ],
   "source": [
    "classes = ['plane', 'car', 'bird', 'cat', 'deer', 'dog', 'frog', 'horse', 'ship', 'truck']\n",
    "num_classes = len(classes)\n",
    "samples_per_class = 7\n",
    "for y, cls in enumerate(classes):\n",
    "    idxs = np.flatnonzero(y_train == y)\n",
    "    idxs = np.random.choice(idxs, samples_per_class, replace=False)\n",
    "    for i, idx in enumerate(idxs):\n",
    "        plt_idx = i * num_classes + y + 1\n",
    "        plt.subplot(samples_per_class, num_classes, plt_idx)\n",
    "        plt.imshow(X_train[idx].astype('uint8'))\n",
    "        plt.axis('off')\n",
    "        if i == 0:\n",
    "            plt.title(cls)\n",
    "plt.show()"
   ]
  },
  {
   "cell_type": "markdown",
   "metadata": {
    "colab_type": "text",
    "id": "-nLyYUhBgDKp"
   },
   "source": [
    "## Subsample the dataset\n",
    "When implementing machine learning algorithms, it's usually a good idea to use a small sample of the full dataset. This way your code will run much faster, allowing for more interactive and efficient development. Once you are satisfied that you have correctly implemented the algorithm, you can then rerun with the entire dataset."
   ]
  },
  {
   "cell_type": "markdown",
   "metadata": {
    "colab_type": "text",
    "id": "DtBIn0xjhPMd"
   },
   "source": [
    "We will subsample the data to use only 500 training examples and 250 test examples:"
   ]
  },
  {
   "cell_type": "code",
   "execution_count": 6,
   "metadata": {
    "colab": {
     "base_uri": "https://localhost:8080/",
     "height": 119
    },
    "colab_type": "code",
    "id": "FFmXwZbnG9ki",
    "outputId": "dc47bcd0-d46b-41d5-bc75-052ff7043d39"
   },
   "outputs": [],
   "source": [
    "# Memory error prevention by subsampling data\n",
    "\n",
    "num_training = 500\n",
    "mask = list(range(num_training))\n",
    "X_train = X_train[mask]\n",
    "y_train = y_train[mask]\n",
    "\n",
    "num_test = 250\n",
    "mask = list(range(num_test))\n",
    "X_test = X_test[mask]\n",
    "y_test = y_test[mask]"
   ]
  },
  {
   "cell_type": "code",
   "execution_count": 7,
   "metadata": {},
   "outputs": [
    {
     "name": "stdout",
     "output_type": "stream",
     "text": [
      "(500, 3072) (250, 3072)\n"
     ]
    }
   ],
   "source": [
    "# reshaping data and placing into rows\n",
    "X_train = np.reshape(X_train, (X_train.shape[0], -1))\n",
    "X_test = np.reshape(X_test, (X_test.shape[0], -1))\n",
    "print(X_train.shape, X_test.shape)"
   ]
  },
  {
   "cell_type": "markdown",
   "metadata": {
    "colab_type": "text",
    "id": "-M0pmnWwgFu5"
   },
   "source": [
    "# K-Nearest Neighbors (k-NN)"
   ]
  },
  {
   "cell_type": "markdown",
   "metadata": {
    "colab_type": "text",
    "id": "NOZTkdiSmUFc"
   },
   "source": [
    "Now that we have examined and prepared our data, it is time to implement the kNN classifier. We can break the process down into two steps:\n",
    "\n",
    "1. Perform k-Nearest neighbours algorithm on the CiFAR-10 dataset to classify test images. \n",
    "2. Perform k-fold cross validation and plot the trend line with error bars that correspond to standard deviation to find the best value of the 'k' hyper parameter and best accuracy on the dataset.\n",
    "3. Select the best value for k, and rerun the classifier on our full 5000 set of training examples.\n",
    "4. Discussion: Discuss your understanding."
   ]
  },
  {

   "execution_count": 8,
   "metadata": {},
   "outputs": [
    {
     "name": "stdout",
     "output_type": "stream",
     "text": [

      "Accuracy with k=5: 0.1880\n"
     ]
    }
   ],
   "source": [
    "from collections import Counter\n",
    "import numpy as np\n",
    "\n",
    "def compute_distances(X_train, X_test):\n",
    "    \"\"\"\n",
    "    Compute the L2 distance between each test point in X_test and each training point in X_train.\n",
    "    Returns:\n",
    "    - distances: A numpy array of shape (num_test, num_train) where distances[i, j] is the Euclidean\n",
    "      distance between the ith test point and the jth training point.\n",
    "    \"\"\"\n",
    "    num_test = X_test.shape[0]\n",
    "    num_train = X_train.shape[0]\n",
    "    distances = np.zeros((num_test, num_train))\n",
    "    \n",
    "    # Efficient vectorized distance calculation\n",
    "    distances = np.sqrt(-2 * np.dot(X_test, X_train.T) + np.sum(X_train ** 2, axis=1) + np.sum(X_test ** 2, axis=1)[:, np.newaxis])\n",
    "    \n",
    "    return distances\n",
    "\n",
    "def predict_labels(k, distances, y_train):\n",
    "    \"\"\"\n",
    "    Predict the label of each test point based on its k nearest neighbors.\n",
    "    Returns:\n",
    "    - y_pred: A numpy array of shape (num_test,) containing predicted labels for the test data.\n",
    "    \"\"\"\n",
    "    num_test = distances.shape[0]\n",
    "    y_pred = np.zeros(num_test)\n",
    "    \n",
    "    for i in range(num_test):\n",
    "        # Find the k nearest neighbors\n",
    "        closest_y = []\n",
    "        neighbors = np.argsort(distances[i, :])[:k]\n",
    "        closest_y = y_train[neighbors]\n",
    "        \n",
    "        # Predict the most common label\n",
    "        y_pred[i] = Counter(closest_y).most_common(1)[0][0]\n",
    "    \n",
    "    return y_pred\n",
    "\n",
    "# Example usage:\n",
    "k = 5\n",
    "distances = compute_distances(X_train, X_test)\n",
    "y_pred = predict_labels(k, distances, y_train)\n",
    "\n",
    "# Checking accuracy on the test set\n",
    "accuracy = np.mean(y_pred == y_test)\n",
    "print(f'Accuracy with k={k}: {accuracy:.4f}')\n"
   ]
  },
  {
   "cell_type": "markdown",
   "metadata": {},
   "source": [
    "Cross Validation"

   ]
  },
  {
   "cell_type": "code",

   "execution_count": 11,
   "metadata": {},
   "outputs": [
    {
     "name": "stdout",
     "output_type": "stream",
     "text": [
      "              precision    recall  f1-score   support\n",
      "\n",
      "           0       0.23      0.48      0.31        25\n",
      "           1       0.33      0.05      0.09        20\n",
      "           2       0.11      0.21      0.15        24\n",
      "           3       0.20      0.14      0.16        22\n",
      "           4       0.11      0.42      0.17        19\n",
      "           5       0.00      0.00      0.00        25\n",
      "           6       0.24      0.14      0.17        29\n",
      "           7       0.00      0.00      0.00        24\n",
      "           8       0.24      0.26      0.25        34\n",
      "           9       0.67      0.07      0.13        28\n",
      "\n",
      "    accuracy                           0.18       250\n",
      "   macro avg       0.21      0.18      0.14       250\n",
      "weighted avg       0.22      0.18      0.15       250\n",
      "\n",
      "Confusion Matrix:\n",
      " [[12  0  2  0  2  0  1  0  8  0]\n",
      " [ 6  1  2  1  2  1  5  0  2  0]\n",
      " [ 4  0  5  1  9  2  3  0  0  0]\n",
      " [ 3  0  4  3 11  0  1  0  0  0]\n",
      " [ 3  0  4  1  8  0  0  0  3  0]\n",
      " [ 4  0  6  2 12  0  0  0  1  0]\n",
      " [ 0  0  7  1 17  0  4  0  0  0]\n",
      " [ 4  0  6  4  6  0  2  0  2  0]\n",
      " [14  1  5  1  3  0  0  0  9  1]\n",
      " [ 3  1  3  1  5  0  1  0 12  2]]\n"
     ]
    },
    {
     "name": "stderr",
     "output_type": "stream",
     "text": [
      "c:\\Users\\user\\anaconda3\\Lib\\site-packages\\sklearn\\metrics\\_classification.py:1469: UndefinedMetricWarning: Precision and F-score are ill-defined and being set to 0.0 in labels with no predicted samples. Use `zero_division` parameter to control this behavior.\n",
      "  _warn_prf(average, modifier, msg_start, len(result))\n",
      "c:\\Users\\user\\anaconda3\\Lib\\site-packages\\sklearn\\metrics\\_classification.py:1469: UndefinedMetricWarning: Precision and F-score are ill-defined and being set to 0.0 in labels with no predicted samples. Use `zero_division` parameter to control this behavior.\n",
      "  _warn_prf(average, modifier, msg_start, len(result))\n",
      "c:\\Users\\user\\anaconda3\\Lib\\site-packages\\sklearn\\metrics\\_classification.py:1469: UndefinedMetricWarning: Precision and F-score are ill-defined and being set to 0.0 in labels with no predicted samples. Use `zero_division` parameter to control this behavior.\n",
      "  _warn_prf(average, modifier, msg_start, len(result))\n"

     ]
    }
   ],
   "source": [

    "# Print the classification report\n",
    "print(classification_report(y_test, y_pred))\n",
    "\n",
    "# Confusion Matrix\n",
    "conf_matrix = confusion_matrix(y_test, y_pred)\n",
    "print(\"Confusion Matrix:\\n\", conf_matrix)\n"

   ]
  },
  {
   "cell_type": "code",

   "execution_count": 28,
   "metadata": {},
   "outputs": [
    {
     "data": {
      "image/png": "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",
      "text/plain": [
       "<Figure size 1200x800 with 8 Axes>"

      ]
     },
     "metadata": {},
     "output_type": "display_data"
    }
   ],
   "source": [

    "plt.figure(figsize=(12, 8))\n",
    "for i in range(8):\n",
    "    plt.subplot(2, 4, i + 1)\n",
    "    plt.imshow(X_test[i].reshape(32, 32, 3).astype('uint8'))\n",
    "    plt.title(f'Predicted: {classes[y_pred[i]]}')\n",
    "    plt.axis('off')\n",
    "plt.show()"

    "from sklearn.model_selection import KFold\n",
    "import matplotlib.pyplot as plt\n",
    "\n",
    "def cross_validation(X_train, y_train, k_values, num_folds=5):\n",
    "    \"\"\"\n",
    "    Perform k-fold cross-validation to find the best value of k.\n",
    "    \"\"\"\n",
    "    kf = KFold(n_splits=num_folds, shuffle=True)\n",
    "    accuracies = np.zeros((len(k_values), num_folds))\n",
    "    \n",
    "    for i, k in enumerate(k_values):\n",
    "        fold = 0\n",
    "        for train_idx, val_idx in kf.split(X_train):\n",
    "            X_train_fold, y_train_fold = X_train[train_idx], y_train[train_idx]\n",
    "            X_val_fold, y_val_fold = X_train[val_idx], y_train[val_idx]\n",
    "            \n",
    "            distances = compute_distances(X_train_fold, X_val_fold)\n",
    "            y_pred = predict_labels(k, distances, y_train_fold)\n",
    "            accuracies[i, fold] = np.mean(y_pred == y_val_fold)\n",
    "            fold += 1\n",
    "    \n",
    "    # Compute mean and standard deviation of accuracy for each k\n",
    "    mean_accuracies = accuracies.mean(axis=1)\n",
    "    std_accuracies = accuracies.std(axis=1)\n",
    "    \n",
    "    # Plot the accuracies with error bars\n",
    "    plt.errorbar(k_values, mean_accuracies, yerr=std_accuracies, fmt='-o')\n",
    "    plt.xlabel('k')\n",
    "    plt.ylabel('Accuracy')\n",
    "    plt.title('Cross-validation on kNN')\n",
    "    plt.show()\n",
    "\n",
    "    return mean_accuracies, std_accuracies\n",
    "\n",
    "# Define range of k values\n",
    "k_values = [1, 3, 5, 7, 9, 11]\n",
    "mean_accuracies, std_accuracies = cross_validation(X_train, y_train, k_values)\n"

   ]
  },
  {
   "cell_type": "markdown",
   "metadata": {},
   "source": [

    "## k-fold cross validation"


   ]
  },
  {
   "cell_type": "code",


   "execution_count": 16,
   "metadata": {},
   "outputs": [],
   "source": [
    "X_train = X_train.astype('float32') / 255.0\n",
    "X_test = X_test.astype('float32') / 255.0"
   ]
  },
  {
   "cell_type": "code",
   "execution_count": 17,
   "metadata": {},
   "outputs": [],
   "source": [
    "X_train_flat = X_train.reshape(len(X_train), -1)\n",
    "X_test_flat = X_test.reshape(len(X_test), -1)"
   ]
  },
  {
   "cell_type": "code",
   "execution_count": 13,
   "metadata": {},
   "outputs": [],
   "source": [
    "k_values = range(1, 21)  # Test k values from 1 to 20\n",
    "mean_accuracies = []\n",
    "std_accuracies = []"
   ]
  },
  {
   "cell_type": "code",
   "execution_count": 18,
   "metadata": {},
   "outputs": [],
   "source": [
    "from sklearn.model_selection import KFold\n",
    "for k in k_values:\n",
    "    knn = KNeighborsClassifier(n_neighbors=k)\n",
    "    kfold = KFold(n_splits=5, shuffle=True, random_state=42)\n",
    "    cv_scores = cross_val_score(knn, X_train_flat, y_train, cv=kfold, scoring='accuracy')\n",
    "    mean_accuracies.append(np.mean(cv_scores))\n",
    "    std_accuracies.append(np.std(cv_scores))"

   ]
  },
  {
   "cell_type": "code",

   "metadata": {},
   "outputs": [
    {
     "data": {

      "image/png": "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",

      "text/plain": [
       "<Figure size 640x480 with 1 Axes>"
      ]
     },
     "metadata": {},
     "output_type": "display_data"
    }
   ],
   "source": [

    "plt.errorbar(k_values, mean_accuracies, yerr=std_accuracies, fmt='-o', ecolor='red', capsize=5)\n",
    "plt.xlabel('k (Number of Neighbors)')\n",
    "plt.ylabel('Mean Accuracy')\n",
    "plt.title('KNN Cross-Validation Accuracy with Error Bars')\n",
    "plt.show()"

   ]
  },
  {
   "cell_type": "code",

   "execution_count": 20,

   "metadata": {},
   "outputs": [
    {
     "name": "stdout",
     "output_type": "stream",
     "text": [

      "Best value of k: 1\n"

     ]
    }
   ],
   "source": [

    "best_k = k_values[np.argmax(mean_accuracies)]\n",
    "print(f'Best value of k: {best_k}')"
   ]
  },
  {
   "cell_type": "code",
   "execution_count": 22,
   "metadata": {},
   "outputs": [
    {
     "name": "stdout",
     "output_type": "stream",
     "text": [
      "              precision    recall  f1-score   support\n",
      "\n",
      "           0       0.22      0.32      0.26        25\n",
      "           1       0.75      0.15      0.25        20\n",
      "           2       0.16      0.25      0.19        24\n",
      "           3       0.18      0.14      0.15        22\n",
      "           4       0.10      0.32      0.15        19\n",
      "           5       0.08      0.04      0.05        25\n",
      "           6       0.33      0.31      0.32        29\n",
      "           7       0.17      0.04      0.07        24\n",
      "           8       0.37      0.44      0.40        34\n",
      "           9       0.43      0.11      0.17        28\n",
      "\n",
      "    accuracy                           0.22       250\n",
      "   macro avg       0.28      0.21      0.20       250\n",
      "weighted avg       0.28      0.22      0.21       250\n",
      "\n"
     ]
    }
   ],
   "source": [
    "knn_best = KNeighborsClassifier(n_neighbors=best_k) \n",
    "knn_best.fit(X_train, y_train) \n",
    "y_pred_best = knn_best.predict(X_test)\n",
    "print(classification_report(y_test, y_pred_best))"

   "execution_count": 10,
   "metadata": {},
   "outputs": [
    {
     "name": "stdout",
     "output_type": "stream",
     "text": [
      "The best value of k is: 1\n",
      "Final accuracy with k=1: 0.2200\n"
     ]
    }
   ],
   "source": [
    "# Select the best value of k\n",
    "best_k = k_values[np.argmax(mean_accuracies)]\n",
    "print(f'The best value of k is: {best_k}')\n",
    "\n",
    "# Rerun the classifier on the full training set\n",
    "distances = compute_distances(X_train, X_test)\n",
    "y_pred = predict_labels(best_k, distances, y_train)\n",
    "\n",
    "# Final accuracy on the test set\n",
    "final_accuracy = np.mean(y_pred == y_test)\n",
    "print(f'Final accuracy with k={best_k}: {final_accuracy:.4f}')\n"
   ]
  },
  {
   "cell_type": "markdown",
   "metadata": {},
   "source": [
    "***Discussion***"
   ]
  },
  {
   "cell_type": "markdown",
   "metadata": {},
   "source": [
    "**Inferences**\n",
    "Best Value of k: The optimal value of k identified through cross-validation is 1, suggesting that the model performs best when relying on the single nearest neighbor for classification.\n",
    "Final Accuracy: The kNN classifier achieved a final accuracy of 22.00% on the test set with k=1, indicating that there is room for improvement in classification performance.\n",
    "Sensitivity to Noise: Using k=1 makes the model sensitive to noise and outliers, which can lead to misclassifications.\n",
    "Risk of Overfitting: The choice of k=1 increases the risk of overfitting, as the model may memorize the training data instead of generalizing well to unseen data.\n",
    "High Dimensionality Challenge: The dataset's high dimensionality can complicate the kNN classification, as distances between points tend to become less informative."
   ]
  },
  {
   "cell_type": "markdown",
   "metadata": {},
   "source": [
    "**Next Steps for Improvement**\n",
    "Experiment with Larger k Values:Explore slightly larger values of k to achieve a better balance between bias and variance, potentially leading to improved accuracy.\n",
    "Data Augmentation:Implement data augmentation techniques (e.g., rotation, flipping, scaling) to enhance the diversity of the training dataset, helping the model to generalize better.\n",
    "Feature Scaling:Normalize or standardize pixel values to ensure uniformity in scale across features.\n",
    "Dimensionality Reduction:Apply dimensionality reduction techniques like PCA (Principal Component Analysis) to reduce the number of features while retaining the most significant variance, which can enhance classification efficiency and accuracy.\n",
    "Increase Training Data Size:increase the size of the training dataset to improve the classifier's ability to learn from more examples and enhance generalization.\n",
    "Consider Other Classifiers:Explore other classification algorithms (e.g., Support Vector Machines, Decision Trees, or Neural Networks) that may be better suited for the complexity of the CIFAR-10 dataset."

   ]

  }
 ],
 "metadata": {
  "colab": {
   "collapsed_sections": [
    "hQrEwOpXb9Gh",
    "Cnf0BfHZfWzO",
    "SWSgBT8Wf3tW",
    "emQnvtnFeX1H",
    "GSd6jQb4epkC",
    "AKKdLGIIffYx",
    "-nLyYUhBgDKp",
    "NOZTkdiSmUFc",
    "aHkuvdr_1HqC",
    "EudsSj5TrGGF",
    "QNyZLRmaIgT0"
   ],
   "name": "knn.ipynb",
   "provenance": [],
   "toc_visible": true
  },
  "kernelspec": {


   "display_name": "base",


   "language": "python",
   "name": "python3"
  },
  "language_info": {
   "codemirror_mode": {
    "name": "ipython",
    "version": 3
   },
   "file_extension": ".py",
   "mimetype": "text/x-python",
   "name": "python",
   "nbconvert_exporter": "python",
   "pygments_lexer": "ipython3",

   "version": "3.11.4"
  }
 },
 "nbformat": 4,
 "nbformat_minor": 0

}

